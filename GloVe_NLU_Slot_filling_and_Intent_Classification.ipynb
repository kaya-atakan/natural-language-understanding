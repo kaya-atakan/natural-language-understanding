{
  "nbformat": 4,
  "nbformat_minor": 0,
  "metadata": {
    "colab": {
      "name": "GloVe NLU - Slot filling and Intent Classification",
      "provenance": [],
      "collapsed_sections": [],
      "machine_shape": "hm",
      "include_colab_link": true
    },
    "kernelspec": {
      "name": "python3",
      "display_name": "Python 3"
    },
    "accelerator": "GPU"
  },
  "cells": [
    {
      "cell_type": "markdown",
      "metadata": {
        "id": "view-in-github",
        "colab_type": "text"
      },
      "source": [
        "<a href=\"https://colab.research.google.com/github/kaya-atakan/natural-language-understanding/blob/main/GloVe_NLU_Slot_filling_and_Intent_Classification.ipynb\" target=\"_parent\"><img src=\"https://colab.research.google.com/assets/colab-badge.svg\" alt=\"Open In Colab\"/></a>"
      ]
    },
    {
      "cell_type": "code",
      "metadata": {
        "colab": {
          "base_uri": "https://localhost:8080/",
          "height": 17
        },
        "id": "eRzYmpXCVKwT",
        "outputId": "ccf61368-0a4e-4d40-f57d-b209865c1231"
      },
      "source": [
        "%%javascript\n",
        "function ClickConnect(){\n",
        "    console.log(\"Clicked on connect button\"); \n",
        "    document.querySelector(\"colab-connect-button\").click()\n",
        "}\n",
        "setInterval(ClickConnect,60000)"
      ],
      "execution_count": 1,
      "outputs": [
        {
          "output_type": "display_data",
          "data": {
            "application/javascript": [
              "function ClickConnect(){\n",
              "    console.log(\"Clicked on connect button\"); \n",
              "    document.querySelector(\"colab-connect-button\").click()\n",
              "}\n",
              "setInterval(ClickConnect,60000)"
            ],
            "text/plain": [
              "<IPython.core.display.Javascript object>"
            ]
          },
          "metadata": {
            "tags": []
          }
        }
      ]
    },
    {
      "cell_type": "code",
      "metadata": {
        "id": "ZdqwLML7qehx"
      },
      "source": [
        "import sys\n",
        "import spacy\n",
        "import random\n",
        "import time\n",
        "import numpy as np\n",
        "import pandas as pd\n",
        "\n",
        "# from google.colab import drive\n",
        "# drive.mount('/content/drive')\n"
      ],
      "execution_count": 2,
      "outputs": []
    },
    {
      "cell_type": "code",
      "metadata": {
        "colab": {
          "base_uri": "https://localhost:8080/"
        },
        "id": "PDrAjI3FNTiT",
        "outputId": "fee45b72-8578-4843-88ce-5ddbc0449fca"
      },
      "source": [
        "!ls"
      ],
      "execution_count": 3,
      "outputs": [
        {
          "output_type": "stream",
          "text": [
            "sample_data\n"
          ],
          "name": "stdout"
        }
      ]
    },
    {
      "cell_type": "code",
      "metadata": {
        "colab": {
          "base_uri": "https://localhost:8080/"
        },
        "id": "b7JSB-tfNoR7",
        "outputId": "43e96a0e-b232-467f-c481-0f49d395110c"
      },
      "source": [
        "!git clone https://github.com/cntogz/NotAs.git"
      ],
      "execution_count": 4,
      "outputs": [
        {
          "output_type": "stream",
          "text": [
            "Cloning into 'NotAs'...\n",
            "remote: Enumerating objects: 75, done.\u001b[K\n",
            "remote: Counting objects: 100% (75/75), done.\u001b[K\n",
            "remote: Compressing objects: 100% (61/61), done.\u001b[K\n",
            "remote: Total 75 (delta 18), reused 42 (delta 10), pack-reused 0\u001b[K\n",
            "Unpacking objects: 100% (75/75), done.\n"
          ],
          "name": "stdout"
        }
      ]
    },
    {
      "cell_type": "code",
      "metadata": {
        "colab": {
          "base_uri": "https://localhost:8080/"
        },
        "id": "8o9ZdJZwNqLg",
        "outputId": "198bb703-07b1-49fb-e607-18dc489887e6"
      },
      "source": [
        "%cd NotAs/SNIPS/"
      ],
      "execution_count": 5,
      "outputs": [
        {
          "output_type": "stream",
          "text": [
            "/content/NotAs/SNIPS\n"
          ],
          "name": "stdout"
        }
      ]
    },
    {
      "cell_type": "code",
      "metadata": {
        "colab": {
          "base_uri": "https://localhost:8080/"
        },
        "id": "yb6LfN3KMDXU",
        "outputId": "723ca658-3a78-4845-8629-1b2c9b453bd2"
      },
      "source": [
        "!wget http://nlp.stanford.edu/data/glove.6B.zip "
      ],
      "execution_count": 6,
      "outputs": [
        {
          "output_type": "stream",
          "text": [
            "--2020-12-08 17:27:47--  http://nlp.stanford.edu/data/glove.6B.zip\n",
            "Resolving nlp.stanford.edu (nlp.stanford.edu)... 171.64.67.140\n",
            "Connecting to nlp.stanford.edu (nlp.stanford.edu)|171.64.67.140|:80... connected.\n",
            "HTTP request sent, awaiting response... 302 Found\n",
            "Location: https://nlp.stanford.edu/data/glove.6B.zip [following]\n",
            "--2020-12-08 17:27:47--  https://nlp.stanford.edu/data/glove.6B.zip\n",
            "Connecting to nlp.stanford.edu (nlp.stanford.edu)|171.64.67.140|:443... connected.\n",
            "HTTP request sent, awaiting response... 301 Moved Permanently\n",
            "Location: http://downloads.cs.stanford.edu/nlp/data/glove.6B.zip [following]\n",
            "--2020-12-08 17:27:47--  http://downloads.cs.stanford.edu/nlp/data/glove.6B.zip\n",
            "Resolving downloads.cs.stanford.edu (downloads.cs.stanford.edu)... 171.64.64.22\n",
            "Connecting to downloads.cs.stanford.edu (downloads.cs.stanford.edu)|171.64.64.22|:80... connected.\n",
            "HTTP request sent, awaiting response... 200 OK\n",
            "Length: 862182613 (822M) [application/zip]\n",
            "Saving to: ‘glove.6B.zip’\n",
            "\n",
            "glove.6B.zip        100%[===================>] 822.24M  1.78MB/s    in 6m 28s  \n",
            "\n",
            "2020-12-08 17:34:15 (2.12 MB/s) - ‘glove.6B.zip’ saved [862182613/862182613]\n",
            "\n"
          ],
          "name": "stdout"
        }
      ]
    },
    {
      "cell_type": "code",
      "metadata": {
        "id": "3sYO7PlswhvQ",
        "colab": {
          "base_uri": "https://localhost:8080/"
        },
        "outputId": "a494ef37-b856-4493-a877-3bf7da670dfc"
      },
      "source": [
        "!ls && pwd"
      ],
      "execution_count": 7,
      "outputs": [
        {
          "output_type": "stream",
          "text": [
            "glove.6B.zip  test  train  valid\n",
            "/content/NotAs/SNIPS\n"
          ],
          "name": "stdout"
        }
      ]
    },
    {
      "cell_type": "code",
      "metadata": {
        "id": "5o4ZOBCOQ9Cx"
      },
      "source": [
        "!unzip -q glove.6B.zip"
      ],
      "execution_count": 8,
      "outputs": []
    },
    {
      "cell_type": "code",
      "metadata": {
        "id": "doLrr_u-oOF7"
      },
      "source": [
        "import matplotlib.pyplot as plt\n",
        "import numpy as np\n",
        "import pandas as pd\n",
        "import tensorflow as tf\n",
        "\n",
        "from pathlib import Path\n",
        "\n",
        "from tensorflow.keras.layers import Dense, Dropout\n",
        "from tensorflow.keras.losses import SparseCategoricalCrossentropy\n",
        "from tensorflow.keras.metrics import SparseCategoricalAccuracy\n",
        "from tensorflow.keras.optimizers import Adam"
      ],
      "execution_count": 9,
      "outputs": []
    },
    {
      "cell_type": "code",
      "metadata": {
        "id": "DmA5vNh0Sx7C"
      },
      "source": [
        "lines_train = Path('train').read_text('utf-8').strip().splitlines()\n"
      ],
      "execution_count": 10,
      "outputs": []
    },
    {
      "cell_type": "code",
      "metadata": {
        "id": "45AD-mmTo70H"
      },
      "source": [
        "def parse_line_to_dict(line):\n",
        "  \"\"\"\n",
        "  input: string\n",
        "  \"\"\"\n",
        "  slot_data, intent_label = line.split(\" <=> \")\n",
        "  items = slot_data.split()\n",
        "  words = [item.rsplit(':', 1)[0] for item in items]\n",
        "  word_labels = [item.rsplit(':', 1)[1] for item in items]\n",
        "  \n",
        "  return {\n",
        "      'intent_label': intent_label,\n",
        "      'words': \" \".join(words),\n",
        "      'words_label': \" \".join(word_labels),\n",
        "      'length': len(words)\n",
        "    }\n",
        "\n",
        "# parse_line_to_dict(lines_train[0])"
      ],
      "execution_count": 11,
      "outputs": []
    },
    {
      "cell_type": "code",
      "metadata": {
        "id": "IOI-37edbTur"
      },
      "source": [
        "lines_validation = Path('valid').read_text('utf-8').strip().splitlines()\n",
        "lines_test = Path('test').read_text('utf-8').strip().splitlines()\n",
        "\n",
        "\n",
        "df_train = pd.DataFrame([parse_line_to_dict(line) for line in lines_train])\n",
        "df_validation = pd.DataFrame([parse_line_to_dict(line) for line in lines_validation])\n",
        "df_test = pd.DataFrame([parse_line_to_dict(line) for line in lines_test])"
      ],
      "execution_count": 12,
      "outputs": []
    },
    {
      "cell_type": "code",
      "metadata": {
        "id": "DzZKnNmYOfOq"
      },
      "source": [
        "unique_word_vocab = df_train['words'].str.split(' ',expand=True).stack().unique().tolist()"
      ],
      "execution_count": 13,
      "outputs": []
    },
    {
      "cell_type": "code",
      "metadata": {
        "id": "umB83I7BOgX5"
      },
      "source": [
        "unique_word_vocab_lower = [element.lower() for element in unique_word_vocab]"
      ],
      "execution_count": 14,
      "outputs": []
    },
    {
      "cell_type": "code",
      "metadata": {
        "id": "bRk02rXlpvUy",
        "colab": {
          "base_uri": "https://localhost:8080/"
        },
        "outputId": "5f56c36c-4810-488e-91a1-4b4646079184"
      },
      "source": [
        "df_train.intent_label.value_counts(normalize=True)"
      ],
      "execution_count": 15,
      "outputs": [
        {
          "output_type": "execute_result",
          "data": {
            "text/plain": [
              "GetWeather              0.145216\n",
              "PlayMusic               0.145216\n",
              "BookRestaurant          0.143152\n",
              "SearchScreeningEvent    0.142082\n",
              "RateBook                0.141853\n",
              "SearchCreativeWork      0.141700\n",
              "AddToPlaylist           0.140783\n",
              "Name: intent_label, dtype: float64"
            ]
          },
          "metadata": {
            "tags": []
          },
          "execution_count": 15
        }
      ]
    },
    {
      "cell_type": "code",
      "metadata": {
        "id": "HJDAwAhuqF8s",
        "colab": {
          "base_uri": "https://localhost:8080/"
        },
        "outputId": "578804ec-5709-421e-fb22-d545dd81e59d"
      },
      "source": [
        "first_sentence = df_train.iloc[0]['words']\n",
        "print(first_sentence)"
      ],
      "execution_count": 16,
      "outputs": [
        {
          "output_type": "stream",
          "text": [
            "-Add Don and Sherri to my Meditate to Sounds of Nature playlist\n"
          ],
          "name": "stdout"
        }
      ]
    },
    {
      "cell_type": "markdown",
      "metadata": {
        "id": "Z9yo9uSQg2uv"
      },
      "source": [
        "KERAS GLOVE EMBEDDINGS"
      ]
    },
    {
      "cell_type": "code",
      "metadata": {
        "id": "o70J8QcVOJzQ"
      },
      "source": [
        "import keras\n",
        "from keras.preprocessing.sequence import pad_sequences\n",
        "from keras.models import Sequential\n",
        "from keras.layers import Concatenate,Dense, TimeDistributed\n",
        "from keras.layers import Flatten\n",
        "from keras.layers.embeddings import Embedding\n",
        "\n",
        "from tensorflow.keras.layers.experimental.preprocessing import TextVectorization\n",
        "from keras.preprocessing.text import Tokenizer"
      ],
      "execution_count": 17,
      "outputs": []
    },
    {
      "cell_type": "markdown",
      "metadata": {
        "id": "gxJNN6tNUPrs"
      },
      "source": [
        "Tokenizer utility class which can vectorize a text corpus into a list of integers. Each integer maps to a value in a dictionary that encodes the entire corpus, with the keys in the dictionary being the vocabulary terms themselves"
      ]
    },
    {
      "cell_type": "code",
      "metadata": {
        "id": "imr1ujBSQQBg"
      },
      "source": [
        "# tokenizer = keras.preprocessing.text.Tokenizer(num_words=len(unique_word_vocab_lower))\n",
        "word_tokenizer = Tokenizer()\n",
        "word_tokenizer.fit_on_texts(df_train['words'])"
      ],
      "execution_count": 18,
      "outputs": []
    },
    {
      "cell_type": "code",
      "metadata": {
        "colab": {
          "base_uri": "https://localhost:8080/"
        },
        "id": "-YziJTCyo0E_",
        "outputId": "9785f7d5-474c-4f10-d970-31d0492e2997"
      },
      "source": [
        "len(word_tokenizer.word_index)"
      ],
      "execution_count": 19,
      "outputs": [
        {
          "output_type": "execute_result",
          "data": {
            "text/plain": [
              "11182"
            ]
          },
          "metadata": {
            "tags": []
          },
          "execution_count": 19
        }
      ]
    },
    {
      "cell_type": "markdown",
      "metadata": {
        "id": "eeOMjbl7rsS0"
      },
      "source": [
        "It is important to note that the index 0 is reserved and is not assigned to any word. This zero index is used for padding"
      ]
    },
    {
      "cell_type": "code",
      "metadata": {
        "id": "B5d7udN7QpJH"
      },
      "source": [
        "vocab_size = len(word_tokenizer.word_index) + 1 ## Adding 1 because of reserved 0 index\n"
      ],
      "execution_count": 20,
      "outputs": []
    },
    {
      "cell_type": "code",
      "metadata": {
        "id": "MbSEBETNQqO5"
      },
      "source": [
        "train_embedded_sentences = word_tokenizer.texts_to_sequences(df_train['words'])\n",
        "val_embedded_sentences = word_tokenizer.texts_to_sequences(df_validation['words'])\n",
        "test_embedded_sentences = word_tokenizer.texts_to_sequences(df_test['words'])\n",
        "# print(embedded_sentences)"
      ],
      "execution_count": 21,
      "outputs": []
    },
    {
      "cell_type": "code",
      "metadata": {
        "colab": {
          "base_uri": "https://localhost:8080/"
        },
        "id": "oXGA94NIQ6Vc",
        "outputId": "b845cb62-38a4-4e02-d5a2-642b41ab8c2b"
      },
      "source": [
        "import nltk\n",
        "nltk.download('punkt')\n",
        "from nltk.tokenize import word_tokenize\n",
        "\n",
        "word_count = lambda sentence: len(word_tokenize(sentence))\n",
        "longest_sentence = max(df_train['words'], key=word_count)\n",
        "length_long_sentence = len(word_tokenize(longest_sentence))\n",
        "\n",
        "train_padded_sentences = pad_sequences(train_embedded_sentences, 45, padding='post')\n",
        "val_padded_sentences = pad_sequences(val_embedded_sentences, 45, padding='post')\n",
        "test_padded_sentences = pad_sequences(test_embedded_sentences, 45, padding='post')\n",
        "\n",
        "print(train_padded_sentences)"
      ],
      "execution_count": 22,
      "outputs": [
        {
          "output_type": "stream",
          "text": [
            "[nltk_data] Downloading package punkt to /root/nltk_data...\n",
            "[nltk_data]   Unzipping tokenizers/punkt.zip.\n",
            "[[  12  613   24 ...    0    0    0]\n",
            " [  73  414 4433 ...    0    0    0]\n",
            " [  12    1   77 ...    0    0    0]\n",
            " ...\n",
            " [ 245    5   81 ...    0    0    0]\n",
            " [ 177   81   45 ...    0    0    0]\n",
            " [  17   21   83 ...    0    0    0]]\n"
          ],
          "name": "stdout"
        }
      ]
    },
    {
      "cell_type": "code",
      "metadata": {
        "id": "6prGQbeYRoho"
      },
      "source": [
        "lines_glove = Path('glove.6B.100d.txt').read_text('utf-8').strip().splitlines()\n"
      ],
      "execution_count": 23,
      "outputs": []
    },
    {
      "cell_type": "code",
      "metadata": {
        "colab": {
          "base_uri": "https://localhost:8080/"
        },
        "id": "Qt48GtyeiHJ5",
        "outputId": "b7d077a1-9bc0-48c1-b205-273aec3703ed"
      },
      "source": [
        "import os\n",
        "path_to_glove_file = os.getcwd() + '/glove.6B.100d.txt'\n",
        "\n",
        "embeddings_index = {}\n",
        "with open(path_to_glove_file) as f:\n",
        "    for line in f:\n",
        "        word, coefs = line.split(maxsplit=1)\n",
        "        coefs = np.fromstring(coefs, \"f\", sep=\" \")\n",
        "        embeddings_index[word] = coefs\n",
        "\n",
        "print(\"Found %s word vectors.\" % len(embeddings_index))"
      ],
      "execution_count": 24,
      "outputs": [
        {
          "output_type": "stream",
          "text": [
            "Found 400000 word vectors.\n"
          ],
          "name": "stdout"
        }
      ]
    },
    {
      "cell_type": "code",
      "metadata": {
        "id": "qhKMCA7BWhSb"
      },
      "source": [
        "def slot_encoder(text_sequences, slot_names, tokenizer, slot_map, max_length):\n",
        "    encoded = np.zeros(shape=(len(text_sequences), max_length), dtype=np.int32)\n",
        "    \n",
        "    for i, (text_sequence, word_labels) in enumerate(zip(text_sequences, slot_names)):\n",
        "        \n",
        "        encoded_labels = []\n",
        "        \n",
        "        for word, word_label in zip(text_sequence.split(), word_labels.split()):\n",
        "            tokens = word_tokenize(word) #Now, instead of BERT's tokenizer, I rely on NLTK's tokenizer\n",
        "            encoded_labels.append(slot_map[word_label]) #word to index\n",
        "        encoded[i, 1:len(encoded_labels) + 1] = encoded_labels\n",
        "    \n",
        "    return encoded"
      ],
      "execution_count": 25,
      "outputs": []
    },
    {
      "cell_type": "code",
      "metadata": {
        "colab": {
          "base_uri": "https://localhost:8080/"
        },
        "id": "_lV2pahijQbm",
        "outputId": "4e1dc416-e9c8-41ee-ef4a-df2078a69e22"
      },
      "source": [
        "word_tokenize(df_train['words_label'].iloc[0])"
      ],
      "execution_count": 26,
      "outputs": [
        {
          "output_type": "execute_result",
          "data": {
            "text/plain": [
              "['O',\n",
              " 'B-entity_name',\n",
              " 'I-entity_name',\n",
              " 'I-entity_name',\n",
              " 'O',\n",
              " 'B-playlist_owner',\n",
              " 'B-playlist',\n",
              " 'I-playlist',\n",
              " 'I-playlist',\n",
              " 'I-playlist',\n",
              " 'I-playlist',\n",
              " 'O']"
            ]
          },
          "metadata": {
            "tags": []
          },
          "execution_count": 26
        }
      ]
    },
    {
      "cell_type": "markdown",
      "metadata": {
        "id": "_c8HtKwvHKIj"
      },
      "source": [
        "Calculate how many words can be captured by Glove word Embeddings"
      ]
    },
    {
      "cell_type": "code",
      "metadata": {
        "colab": {
          "base_uri": "https://localhost:8080/"
        },
        "id": "TIvxzy7PlGa7",
        "outputId": "d78414ba-f35e-462f-99ba-42220b46dc7e"
      },
      "source": [
        "num_tokens = len(unique_word_vocab_lower) + 1\n",
        "embedding_dim = 100\n",
        "hits = 0\n",
        "misses = 0\n",
        "\n",
        "embedding_matrix = np.zeros((num_tokens, embedding_dim))\n",
        "for word, i in word_tokenizer.word_index.items():\n",
        "    embedding_vector = embeddings_index.get(word)\n",
        "    if embedding_vector is not None:\n",
        "        # Words not found in embedding index will be all-zeros.\n",
        "        # This includes the representation for \"padding\" and \"OOV\"\n",
        "        embedding_matrix[i] = embedding_vector\n",
        "        hits += 1\n",
        "    else:\n",
        "        misses += 1\n",
        "print(\"Converted %d words (%d misses)\" % (hits, misses))"
      ],
      "execution_count": 27,
      "outputs": [
        {
          "output_type": "stream",
          "text": [
            "Converted 9853 words (1329 misses)\n"
          ],
          "name": "stdout"
        }
      ]
    },
    {
      "cell_type": "code",
      "metadata": {
        "id": "Ulr8HXZAnQa2"
      },
      "source": [
        "import numpy as np\n",
        "\n",
        "def create_embedding_matrix(filepath, word_index, embedding_dim):\n",
        "    vocab_size = len(word_index) + 1  # Adding again 1 because of reserved 0 index\n",
        "    embedding_matrix = np.zeros((vocab_size, embedding_dim))\n",
        "\n",
        "    with open(filepath) as f:\n",
        "        for line in f:\n",
        "            word, *vector = line.split()\n",
        "            if word in word_index:\n",
        "                idx = word_index[word] \n",
        "                embedding_matrix[idx] = np.array(\n",
        "                    vector, dtype=np.float32)[:embedding_dim]\n",
        "\n",
        "    return embedding_matrix\n"
      ],
      "execution_count": 28,
      "outputs": []
    },
    {
      "cell_type": "code",
      "metadata": {
        "id": "DvhLx0snnSj8"
      },
      "source": [
        "EMBEDDING_MATRIX = create_embedding_matrix(path_to_glove_file, word_tokenizer.word_index, embedding_dim=100)"
      ],
      "execution_count": 29,
      "outputs": []
    },
    {
      "cell_type": "code",
      "metadata": {
        "colab": {
          "base_uri": "https://localhost:8080/"
        },
        "id": "67Is8mbcnvgR",
        "outputId": "8e719359-cee7-4f37-fa56-a57058354452"
      },
      "source": [
        "nonzero_elements = np.count_nonzero(np.count_nonzero(EMBEDDING_MATRIX, axis=1))\n",
        "nonzero_elements / vocab_size"
      ],
      "execution_count": 30,
      "outputs": [
        {
          "output_type": "execute_result",
          "data": {
            "text/plain": [
              "0.8810694804614146"
            ]
          },
          "metadata": {
            "tags": []
          },
          "execution_count": 30
        }
      ]
    },
    {
      "cell_type": "code",
      "metadata": {
        "colab": {
          "base_uri": "https://localhost:8080/"
        },
        "id": "bZFwcHA2uJaL",
        "outputId": "839ad6e7-010d-4691-f039-91b71f6defe9"
      },
      "source": [
        "EMBEDDING_MATRIX.shape"
      ],
      "execution_count": 31,
      "outputs": [
        {
          "output_type": "execute_result",
          "data": {
            "text/plain": [
              "(11183, 100)"
            ]
          },
          "metadata": {
            "tags": []
          },
          "execution_count": 31
        }
      ]
    },
    {
      "cell_type": "code",
      "metadata": {
        "id": "ieV6toZMV0q_"
      },
      "source": [
        "unique_slot_labels = df_train['words_label'].str.split(' ',expand=True).stack().unique().tolist()\n",
        "\n",
        "slot_names = [\"[PAD]\"]\n",
        "slot_names += unique_slot_labels\n",
        "\n",
        "slot_map = {}\n",
        "for label in slot_names:\n",
        "    slot_map[label] = len(slot_map)"
      ],
      "execution_count": 32,
      "outputs": []
    },
    {
      "cell_type": "code",
      "metadata": {
        "id": "PfPBMXChivIK"
      },
      "source": [
        "slot_train = slot_encoder(df_train['words'], df_train['words_label'], word_tokenizer, slot_map, 45)\n",
        "slot_validation = slot_encoder(df_validation['words'], df_validation['words_label'], word_tokenizer, slot_map, 45)\n",
        "slot_test = slot_encoder(df_test['words'], df_test['words_label'], word_tokenizer, slot_map, 45)"
      ],
      "execution_count": 33,
      "outputs": []
    },
    {
      "cell_type": "code",
      "metadata": {
        "id": "JGchf76qYlOi"
      },
      "source": [
        "unique_intent_labels = df_train['intent_label'].unique().tolist()\n",
        "intent_map = dict((label, idx) for idx, label in enumerate(unique_intent_labels))"
      ],
      "execution_count": 34,
      "outputs": []
    },
    {
      "cell_type": "code",
      "metadata": {
        "id": "l44dwI7obBEx"
      },
      "source": [
        "intent_train = df_train['intent_label'].map(intent_map).values\n",
        "intent_validation = df_validation['intent_label'].map(intent_map).values\n",
        "intent_test = df_test['intent_label'].map(intent_map).values"
      ],
      "execution_count": 35,
      "outputs": []
    },
    {
      "cell_type": "code",
      "metadata": {
        "colab": {
          "base_uri": "https://localhost:8080/"
        },
        "id": "8Vv0u-BTfOO4",
        "outputId": "290d01ae-2ede-4dc1-ad40-6b6138431a4c"
      },
      "source": [
        "from tensorflow.keras import layers\n",
        "\n",
        "MAX_LEN = 45 #We know this from BERT task\n",
        "EMBEDDING_DIM = 100 #Glove's 100 dimensions for word vectors\n",
        "\n",
        "# Input for variable-length sequences of integers\n",
        "# inputs = keras.Input(shape=(None,), dtype=\"int32\")\n",
        "\n",
        "int_sequences_input = keras.Input(shape=(train_padded_sentences.shape[1],), dtype=\"int32\") #int32\n",
        "\n",
        "embedding_layer = layers.Embedding(vocab_size, EMBEDDING_DIM, \n",
        "                                   weights=[EMBEDDING_MATRIX], input_length=MAX_LEN, trainable=False)\n",
        "\n",
        "\n",
        "# Embed each integer in a 128-dimensional vector\n",
        "embedded_sequences = embedding_layer(int_sequences_input)\n",
        "\n",
        "# Add bidirectional LSTM\n",
        "x = layers.Bidirectional(layers.LSTM(100, return_sequences=True, dropout=0.2, recurrent_dropout=0.2), \n",
        "                         merge_mode = 'concat' )(embedded_sequences)\n",
        "# x = layers.Bidirectional(layers.LSTM(100))(x)\n",
        "\n",
        "\n",
        "preds_slot = TimeDistributed(layers.Dense(len(slot_map), activation=\"softmax\"))(x) #Slot Classification\n",
        "\n",
        "\"\"\"https://stackoverflow.com/questions/63809090/tensorflow-2-0-invalidargumenterror-assertion-failed-condition-x-y-did-not\"\"\"\n",
        "\n",
        "x = Flatten()(x) #logits and labels must have the same dimension!!!\n",
        "\n",
        "preds_intent = layers.Dense(len(intent_map), activation=\"softmax\")(x) #Intent Classification\n",
        "\n",
        "# Create the model\n",
        "model_multi = keras.Model(inputs=int_sequences_input, outputs=[preds_slot, preds_intent])\n",
        "\n",
        "print(model_multi.summary())\n"
      ],
      "execution_count": 36,
      "outputs": [
        {
          "output_type": "stream",
          "text": [
            "WARNING:tensorflow:Layer lstm will not use cuDNN kernel since it doesn't meet the cuDNN kernel criteria. It will use generic GPU kernel as fallback when running on GPU\n",
            "WARNING:tensorflow:Layer lstm will not use cuDNN kernel since it doesn't meet the cuDNN kernel criteria. It will use generic GPU kernel as fallback when running on GPU\n",
            "WARNING:tensorflow:Layer lstm will not use cuDNN kernel since it doesn't meet the cuDNN kernel criteria. It will use generic GPU kernel as fallback when running on GPU\n",
            "Model: \"functional_1\"\n",
            "__________________________________________________________________________________________________\n",
            "Layer (type)                    Output Shape         Param #     Connected to                     \n",
            "==================================================================================================\n",
            "input_1 (InputLayer)            [(None, 45)]         0                                            \n",
            "__________________________________________________________________________________________________\n",
            "embedding (Embedding)           (None, 45, 100)      1118300     input_1[0][0]                    \n",
            "__________________________________________________________________________________________________\n",
            "bidirectional (Bidirectional)   (None, 45, 200)      160800      embedding[0][0]                  \n",
            "__________________________________________________________________________________________________\n",
            "flatten (Flatten)               (None, 9000)         0           bidirectional[0][0]              \n",
            "__________________________________________________________________________________________________\n",
            "time_distributed (TimeDistribut (None, 45, 73)       14673       bidirectional[0][0]              \n",
            "__________________________________________________________________________________________________\n",
            "dense_1 (Dense)                 (None, 7)            63007       flatten[0][0]                    \n",
            "==================================================================================================\n",
            "Total params: 1,356,780\n",
            "Trainable params: 238,480\n",
            "Non-trainable params: 1,118,300\n",
            "__________________________________________________________________________________________________\n",
            "None\n"
          ],
          "name": "stdout"
        }
      ]
    },
    {
      "cell_type": "markdown",
      "metadata": {
        "id": "rF0UZQRnkLdR"
      },
      "source": [
        "We use categorical crossentropy as our loss since we're doing softmax classification. Moreover, we use sparse_categorical_crossentropy since our labels are integers."
      ]
    },
    {
      "cell_type": "code",
      "metadata": {
        "id": "E1pAmC72hQuB"
      },
      "source": [
        "losses = [SparseCategoricalCrossentropy(from_logits=True),\n",
        "          SparseCategoricalCrossentropy(from_logits=True)]\n",
        "\n",
        "model_multi.compile(\n",
        "    loss=losses, optimizer=\"adam\", metrics=['acc']\n",
        ")"
      ],
      "execution_count": 37,
      "outputs": []
    },
    {
      "cell_type": "code",
      "metadata": {
        "colab": {
          "base_uri": "https://localhost:8080/",
          "height": 401
        },
        "id": "1Vz1NJM8rA20",
        "outputId": "e9552953-a0f0-46ce-cb26-c77f9346d562"
      },
      "source": [
        "tf.keras.utils.plot_model(model_multi, show_shapes=True, show_layer_names=True)"
      ],
      "execution_count": 38,
      "outputs": [
        {
          "output_type": "execute_result",
          "data": {
            "image/png": "[encoded data removed]",
            "text/plain": [
              "<IPython.core.display.Image object>"
            ]
          },
          "metadata": {
            "tags": []
          },
          "execution_count": 38
        }
      ]
    },
    {
      "cell_type": "code",
      "metadata": {
        "colab": {
          "base_uri": "https://localhost:8080/"
        },
        "id": "-jB8N1S3ebIm",
        "outputId": "e426594e-a977-4970-dc8b-0a00662036e7"
      },
      "source": [
        "model_multi.fit(train_padded_sentences, [slot_train, intent_train], batch_size=128, epochs=20, \n",
        "                validation_data=(val_padded_sentences, [slot_validation, intent_validation]))\n"
      ],
      "execution_count": 39,
      "outputs": [
        {
          "output_type": "stream",
          "text": [
            "Epoch 1/20\n",
            "103/103 [==============================] - 39s 376ms/step - loss: 5.2078 - time_distributed_loss: 3.8280 - dense_1_loss: 1.3798 - time_distributed_acc: 0.7386 - dense_1_acc: 0.8199 - val_loss: 4.7286 - val_time_distributed_loss: 3.4610 - val_dense_1_loss: 1.2676 - val_time_distributed_acc: 0.8567 - val_dense_1_acc: 0.9014\n",
            "Epoch 2/20\n",
            "103/103 [==============================] - 38s 368ms/step - loss: 4.6809 - time_distributed_loss: 3.4548 - dense_1_loss: 1.2261 - time_distributed_acc: 0.8632 - dense_1_acc: 0.9416 - val_loss: 4.6572 - val_time_distributed_loss: 3.4564 - val_dense_1_loss: 1.2007 - val_time_distributed_acc: 0.8590 - val_dense_1_acc: 0.9657\n",
            "Epoch 3/20\n",
            "103/103 [==============================] - 37s 362ms/step - loss: 4.6628 - time_distributed_loss: 3.4511 - dense_1_loss: 1.2118 - time_distributed_acc: 0.8650 - dense_1_acc: 0.9552 - val_loss: 4.6790 - val_time_distributed_loss: 3.4549 - val_dense_1_loss: 1.2241 - val_time_distributed_acc: 0.8602 - val_dense_1_acc: 0.9386\n",
            "Epoch 4/20\n",
            "103/103 [==============================] - 37s 357ms/step - loss: 4.6545 - time_distributed_loss: 3.4496 - dense_1_loss: 1.2049 - time_distributed_acc: 0.8661 - dense_1_acc: 0.9615 - val_loss: 4.6501 - val_time_distributed_loss: 3.4540 - val_dense_1_loss: 1.1962 - val_time_distributed_acc: 0.8607 - val_dense_1_acc: 0.9686\n",
            "Epoch 5/20\n",
            "103/103 [==============================] - 37s 360ms/step - loss: 4.6518 - time_distributed_loss: 3.4487 - dense_1_loss: 1.2031 - time_distributed_acc: 0.8668 - dense_1_acc: 0.9625 - val_loss: 4.6462 - val_time_distributed_loss: 3.4533 - val_dense_1_loss: 1.1929 - val_time_distributed_acc: 0.8614 - val_dense_1_acc: 0.9729\n",
            "Epoch 6/20\n",
            "103/103 [==============================] - 37s 359ms/step - loss: 4.6465 - time_distributed_loss: 3.4480 - dense_1_loss: 1.1985 - time_distributed_acc: 0.8672 - dense_1_acc: 0.9676 - val_loss: 4.6480 - val_time_distributed_loss: 3.4528 - val_dense_1_loss: 1.1952 - val_time_distributed_acc: 0.8620 - val_dense_1_acc: 0.9700\n",
            "Epoch 7/20\n",
            "103/103 [==============================] - 37s 361ms/step - loss: 4.6436 - time_distributed_loss: 3.4474 - dense_1_loss: 1.1961 - time_distributed_acc: 0.8676 - dense_1_acc: 0.9692 - val_loss: 4.6442 - val_time_distributed_loss: 3.4524 - val_dense_1_loss: 1.1918 - val_time_distributed_acc: 0.8621 - val_dense_1_acc: 0.9757\n",
            "Epoch 8/20\n",
            "103/103 [==============================] - 38s 365ms/step - loss: 4.6415 - time_distributed_loss: 3.4468 - dense_1_loss: 1.1947 - time_distributed_acc: 0.8682 - dense_1_acc: 0.9718 - val_loss: 4.6437 - val_time_distributed_loss: 3.4518 - val_dense_1_loss: 1.1919 - val_time_distributed_acc: 0.8629 - val_dense_1_acc: 0.9743\n",
            "Epoch 9/20\n",
            "103/103 [==============================] - 37s 360ms/step - loss: 4.6386 - time_distributed_loss: 3.4465 - dense_1_loss: 1.1921 - time_distributed_acc: 0.8686 - dense_1_acc: 0.9738 - val_loss: 4.6441 - val_time_distributed_loss: 3.4515 - val_dense_1_loss: 1.1926 - val_time_distributed_acc: 0.8629 - val_dense_1_acc: 0.9743\n",
            "Epoch 10/20\n",
            "103/103 [==============================] - 37s 359ms/step - loss: 4.6369 - time_distributed_loss: 3.4460 - dense_1_loss: 1.1909 - time_distributed_acc: 0.8689 - dense_1_acc: 0.9753 - val_loss: 4.6378 - val_time_distributed_loss: 3.4513 - val_dense_1_loss: 1.1865 - val_time_distributed_acc: 0.8632 - val_dense_1_acc: 0.9800\n",
            "Epoch 11/20\n",
            "103/103 [==============================] - 37s 355ms/step - loss: 4.6353 - time_distributed_loss: 3.4457 - dense_1_loss: 1.1896 - time_distributed_acc: 0.8692 - dense_1_acc: 0.9761 - val_loss: 4.6487 - val_time_distributed_loss: 3.4509 - val_dense_1_loss: 1.1977 - val_time_distributed_acc: 0.8634 - val_dense_1_acc: 0.9671\n",
            "Epoch 12/20\n",
            "103/103 [==============================] - 36s 352ms/step - loss: 4.6345 - time_distributed_loss: 3.4454 - dense_1_loss: 1.1891 - time_distributed_acc: 0.8695 - dense_1_acc: 0.9762 - val_loss: 4.6371 - val_time_distributed_loss: 3.4507 - val_dense_1_loss: 1.1864 - val_time_distributed_acc: 0.8635 - val_dense_1_acc: 0.9814\n",
            "Epoch 13/20\n",
            "103/103 [==============================] - 37s 357ms/step - loss: 4.6361 - time_distributed_loss: 3.4451 - dense_1_loss: 1.1910 - time_distributed_acc: 0.8696 - dense_1_acc: 0.9741 - val_loss: 4.6589 - val_time_distributed_loss: 3.4506 - val_dense_1_loss: 1.2083 - val_time_distributed_acc: 0.8639 - val_dense_1_acc: 0.9571\n",
            "Epoch 14/20\n",
            "103/103 [==============================] - 37s 363ms/step - loss: 4.6322 - time_distributed_loss: 3.4449 - dense_1_loss: 1.1873 - time_distributed_acc: 0.8698 - dense_1_acc: 0.9781 - val_loss: 4.6355 - val_time_distributed_loss: 3.4504 - val_dense_1_loss: 1.1851 - val_time_distributed_acc: 0.8637 - val_dense_1_acc: 0.9786\n",
            "Epoch 15/20\n",
            "103/103 [==============================] - 37s 361ms/step - loss: 4.6292 - time_distributed_loss: 3.4446 - dense_1_loss: 1.1846 - time_distributed_acc: 0.8700 - dense_1_acc: 0.9809 - val_loss: 4.6353 - val_time_distributed_loss: 3.4500 - val_dense_1_loss: 1.1853 - val_time_distributed_acc: 0.8642 - val_dense_1_acc: 0.9800\n",
            "Epoch 16/20\n",
            "103/103 [==============================] - 38s 371ms/step - loss: 4.6269 - time_distributed_loss: 3.4444 - dense_1_loss: 1.1824 - time_distributed_acc: 0.8701 - dense_1_acc: 0.9831 - val_loss: 4.6345 - val_time_distributed_loss: 3.4499 - val_dense_1_loss: 1.1845 - val_time_distributed_acc: 0.8643 - val_dense_1_acc: 0.9814\n",
            "Epoch 17/20\n",
            "103/103 [==============================] - 38s 366ms/step - loss: 4.6266 - time_distributed_loss: 3.4442 - dense_1_loss: 1.1824 - time_distributed_acc: 0.8702 - dense_1_acc: 0.9836 - val_loss: 4.6385 - val_time_distributed_loss: 3.4498 - val_dense_1_loss: 1.1886 - val_time_distributed_acc: 0.8643 - val_dense_1_acc: 0.9771\n",
            "Epoch 18/20\n",
            "103/103 [==============================] - 38s 367ms/step - loss: 4.6243 - time_distributed_loss: 3.4441 - dense_1_loss: 1.1803 - time_distributed_acc: 0.8703 - dense_1_acc: 0.9858 - val_loss: 4.6374 - val_time_distributed_loss: 3.4499 - val_dense_1_loss: 1.1876 - val_time_distributed_acc: 0.8641 - val_dense_1_acc: 0.9771\n",
            "Epoch 19/20\n",
            "103/103 [==============================] - 38s 366ms/step - loss: 4.6237 - time_distributed_loss: 3.4439 - dense_1_loss: 1.1798 - time_distributed_acc: 0.8703 - dense_1_acc: 0.9856 - val_loss: 4.6363 - val_time_distributed_loss: 3.4495 - val_dense_1_loss: 1.1868 - val_time_distributed_acc: 0.8645 - val_dense_1_acc: 0.9786\n",
            "Epoch 20/20\n",
            "103/103 [==============================] - 38s 364ms/step - loss: 4.6252 - time_distributed_loss: 3.4438 - dense_1_loss: 1.1814 - time_distributed_acc: 0.8704 - dense_1_acc: 0.9842 - val_loss: 4.6367 - val_time_distributed_loss: 3.4496 - val_dense_1_loss: 1.1871 - val_time_distributed_acc: 0.8644 - val_dense_1_acc: 0.9786\n"
          ],
          "name": "stdout"
        },
        {
          "output_type": "execute_result",
          "data": {
            "text/plain": [
              "<tensorflow.python.keras.callbacks.History at 0x7f34180fb748>"
            ]
          },
          "metadata": {
            "tags": []
          },
          "execution_count": 39
        }
      ]
    },
    {
      "cell_type": "code",
      "metadata": {
        "colab": {
          "base_uri": "https://localhost:8080/"
        },
        "id": "3bSDD3dfy9ae",
        "outputId": "460abed1-009a-4be5-9861-96515e4184a7"
      },
      "source": [
        "model_multi.evaluate(test_padded_sentences, [slot_test, intent_test])"
      ],
      "execution_count": 40,
      "outputs": [
        {
          "output_type": "stream",
          "text": [
            "22/22 [==============================] - 1s 30ms/step - loss: 4.6314 - time_distributed_loss: 3.4480 - dense_1_loss: 1.1834 - time_distributed_acc: 0.8660 - dense_1_acc: 0.9829\n"
          ],
          "name": "stdout"
        },
        {
          "output_type": "execute_result",
          "data": {
            "text/plain": [
              "[4.631353855133057,\n",
              " 3.4479918479919434,\n",
              " 1.183362364768982,\n",
              " 0.8660317659378052,\n",
              " 0.9828571677207947]"
            ]
          },
          "metadata": {
            "tags": []
          },
          "execution_count": 40
        }
      ]
    },
    {
      "cell_type": "code",
      "metadata": {
        "id": "BN8ZxgifJjfh"
      },
      "source": [
        "report_slot_matrix = np.empty((slot_test.shape[0], slot_test.shape[1]), dtype=\"object\")\n",
        "reversed_slot_map = dict(map(reversed, slot_map.items()))\n",
        "for k, v in slot_map.items():\n",
        "  for i in range(0, slot_test.shape[0]):\n",
        "    for j in range(0, slot_test.shape[1]):\n",
        "      report_slot_matrix[i][j] = reversed_slot_map[slot_test[i][j]]\n"
      ],
      "execution_count": 41,
      "outputs": []
    },
    {
      "cell_type": "code",
      "metadata": {
        "id": "M1oDexnnyfFl"
      },
      "source": [
        "from sklearn.metrics import classification_report\n",
        "\n",
        "# get the ground truth of your data. \n",
        "ground_truth_slot = slot_test\n",
        "ground_truth_intent = intent_test\n",
        "\n",
        "# predict the probability distribution of the data\n",
        "# y_pred = np.around(model_multi.predict(test_padded_sentences))\n",
        "# y_pred = model_multi.predict(test_padded_sentences)\n",
        "y_pred_slot = np.around((model_multi.predict(test_padded_sentences))[0])\n",
        "y_pred_intent = np.around(model_multi.predict(test_padded_sentences)[1])\n",
        "\n",
        "# get the class with highest probability for each sample\n",
        "y_pred_slot = np.argmax(y_pred_slot, axis=-1)\n",
        "y_pred_intent = np.argmax(y_pred_intent, axis=-1)\n",
        "\n"
      ],
      "execution_count": 42,
      "outputs": []
    },
    {
      "cell_type": "code",
      "metadata": {
        "id": "lOTXk-ZYAUg2"
      },
      "source": [
        "def get_classification_report(y_test, y_pred):\n",
        "    '''Source: https://gist.github.com/fclesio/bb5871281debc07d75127552c56b08b5'''\n",
        "    \n",
        "    from sklearn import metrics\n",
        "    report = metrics.classification_report(y_test, y_pred, output_dict=True)\n",
        "    df_classification_report = pd.DataFrame(report).transpose()\n",
        "    return df_classification_report"
      ],
      "execution_count": 43,
      "outputs": []
    },
    {
      "cell_type": "code",
      "metadata": {
        "colab": {
          "base_uri": "https://localhost:8080/",
          "height": 359
        },
        "id": "JeK200ap6gGl",
        "outputId": "20353aa5-d95a-4c37-db14-bec64228fd4e"
      },
      "source": [
        "get_classification_report(ground_truth_intent, y_pred_intent)"
      ],
      "execution_count": 44,
      "outputs": [
        {
          "output_type": "execute_result",
          "data": {
            "text/html": [
              "<div>\n",
              "<style scoped>\n",
              "    .dataframe tbody tr th:only-of-type {\n",
              "        vertical-align: middle;\n",
              "    }\n",
              "\n",
              "    .dataframe tbody tr th {\n",
              "        vertical-align: top;\n",
              "    }\n",
              "\n",
              "    .dataframe thead th {\n",
              "        text-align: right;\n",
              "    }\n",
              "</style>\n",
              "<table border=\"1\" class=\"dataframe\">\n",
              "  <thead>\n",
              "    <tr style=\"text-align: right;\">\n",
              "      <th></th>\n",
              "      <th>precision</th>\n",
              "      <th>recall</th>\n",
              "      <th>f1-score</th>\n",
              "      <th>support</th>\n",
              "    </tr>\n",
              "  </thead>\n",
              "  <tbody>\n",
              "    <tr>\n",
              "      <th>0</th>\n",
              "      <td>1.000000</td>\n",
              "      <td>0.980000</td>\n",
              "      <td>0.989899</td>\n",
              "      <td>100.000000</td>\n",
              "    </tr>\n",
              "    <tr>\n",
              "      <th>1</th>\n",
              "      <td>1.000000</td>\n",
              "      <td>1.000000</td>\n",
              "      <td>1.000000</td>\n",
              "      <td>100.000000</td>\n",
              "    </tr>\n",
              "    <tr>\n",
              "      <th>2</th>\n",
              "      <td>1.000000</td>\n",
              "      <td>0.980000</td>\n",
              "      <td>0.989899</td>\n",
              "      <td>100.000000</td>\n",
              "    </tr>\n",
              "    <tr>\n",
              "      <th>3</th>\n",
              "      <td>1.000000</td>\n",
              "      <td>0.980000</td>\n",
              "      <td>0.989899</td>\n",
              "      <td>100.000000</td>\n",
              "    </tr>\n",
              "    <tr>\n",
              "      <th>4</th>\n",
              "      <td>1.000000</td>\n",
              "      <td>1.000000</td>\n",
              "      <td>1.000000</td>\n",
              "      <td>100.000000</td>\n",
              "    </tr>\n",
              "    <tr>\n",
              "      <th>5</th>\n",
              "      <td>0.909091</td>\n",
              "      <td>1.000000</td>\n",
              "      <td>0.952381</td>\n",
              "      <td>100.000000</td>\n",
              "    </tr>\n",
              "    <tr>\n",
              "      <th>6</th>\n",
              "      <td>0.979167</td>\n",
              "      <td>0.940000</td>\n",
              "      <td>0.959184</td>\n",
              "      <td>100.000000</td>\n",
              "    </tr>\n",
              "    <tr>\n",
              "      <th>accuracy</th>\n",
              "      <td>0.982857</td>\n",
              "      <td>0.982857</td>\n",
              "      <td>0.982857</td>\n",
              "      <td>0.982857</td>\n",
              "    </tr>\n",
              "    <tr>\n",
              "      <th>macro avg</th>\n",
              "      <td>0.984037</td>\n",
              "      <td>0.982857</td>\n",
              "      <td>0.983037</td>\n",
              "      <td>700.000000</td>\n",
              "    </tr>\n",
              "    <tr>\n",
              "      <th>weighted avg</th>\n",
              "      <td>0.984037</td>\n",
              "      <td>0.982857</td>\n",
              "      <td>0.983037</td>\n",
              "      <td>700.000000</td>\n",
              "    </tr>\n",
              "  </tbody>\n",
              "</table>\n",
              "</div>"
            ],
            "text/plain": [
              "              precision    recall  f1-score     support\n",
              "0              1.000000  0.980000  0.989899  100.000000\n",
              "1              1.000000  1.000000  1.000000  100.000000\n",
              "2              1.000000  0.980000  0.989899  100.000000\n",
              "3              1.000000  0.980000  0.989899  100.000000\n",
              "4              1.000000  1.000000  1.000000  100.000000\n",
              "5              0.909091  1.000000  0.952381  100.000000\n",
              "6              0.979167  0.940000  0.959184  100.000000\n",
              "accuracy       0.982857  0.982857  0.982857    0.982857\n",
              "macro avg      0.984037  0.982857  0.983037  700.000000\n",
              "weighted avg   0.984037  0.982857  0.983037  700.000000"
            ]
          },
          "metadata": {
            "tags": []
          },
          "execution_count": 44
        }
      ]
    },
    {
      "cell_type": "code",
      "metadata": {
        "colab": {
          "base_uri": "https://localhost:8080/",
          "height": 473
        },
        "id": "qj4QALOUdFES",
        "outputId": "6ab15c8b-1947-40f1-f4cd-631a6b283eb7"
      },
      "source": [
        "get_classification_report(y_pred_slot.reshape(-1), ground_truth_slot.reshape(-1))"
      ],
      "execution_count": 45,
      "outputs": [
        {
          "output_type": "stream",
          "text": [
            "/usr/local/lib/python3.6/dist-packages/sklearn/metrics/_classification.py:1272: UndefinedMetricWarning: Recall and F-score are ill-defined and being set to 0.0 in labels with no true samples. Use `zero_division` parameter to control this behavior.\n",
            "  _warn_prf(average, modifier, msg_start, len(result))\n"
          ],
          "name": "stderr"
        },
        {
          "output_type": "execute_result",
          "data": {
            "text/html": [
              "<div>\n",
              "<style scoped>\n",
              "    .dataframe tbody tr th:only-of-type {\n",
              "        vertical-align: middle;\n",
              "    }\n",
              "\n",
              "    .dataframe tbody tr th {\n",
              "        vertical-align: top;\n",
              "    }\n",
              "\n",
              "    .dataframe thead th {\n",
              "        text-align: right;\n",
              "    }\n",
              "</style>\n",
              "<table border=\"1\" class=\"dataframe\">\n",
              "  <thead>\n",
              "    <tr style=\"text-align: right;\">\n",
              "      <th></th>\n",
              "      <th>precision</th>\n",
              "      <th>recall</th>\n",
              "      <th>f1-score</th>\n",
              "      <th>support</th>\n",
              "    </tr>\n",
              "  </thead>\n",
              "  <tbody>\n",
              "    <tr>\n",
              "      <th>0</th>\n",
              "      <td>0.971573</td>\n",
              "      <td>0.965448</td>\n",
              "      <td>0.968501</td>\n",
              "      <td>25064.000000</td>\n",
              "    </tr>\n",
              "    <tr>\n",
              "      <th>1</th>\n",
              "      <td>0.906471</td>\n",
              "      <td>0.478869</td>\n",
              "      <td>0.626678</td>\n",
              "      <td>6436.000000</td>\n",
              "    </tr>\n",
              "    <tr>\n",
              "      <th>2</th>\n",
              "      <td>0.000000</td>\n",
              "      <td>0.000000</td>\n",
              "      <td>0.000000</td>\n",
              "      <td>0.000000</td>\n",
              "    </tr>\n",
              "    <tr>\n",
              "      <th>3</th>\n",
              "      <td>0.000000</td>\n",
              "      <td>0.000000</td>\n",
              "      <td>0.000000</td>\n",
              "      <td>0.000000</td>\n",
              "    </tr>\n",
              "    <tr>\n",
              "      <th>4</th>\n",
              "      <td>0.000000</td>\n",
              "      <td>0.000000</td>\n",
              "      <td>0.000000</td>\n",
              "      <td>0.000000</td>\n",
              "    </tr>\n",
              "    <tr>\n",
              "      <th>...</th>\n",
              "      <td>...</td>\n",
              "      <td>...</td>\n",
              "      <td>...</td>\n",
              "      <td>...</td>\n",
              "    </tr>\n",
              "    <tr>\n",
              "      <th>71</th>\n",
              "      <td>0.000000</td>\n",
              "      <td>0.000000</td>\n",
              "      <td>0.000000</td>\n",
              "      <td>0.000000</td>\n",
              "    </tr>\n",
              "    <tr>\n",
              "      <th>72</th>\n",
              "      <td>0.000000</td>\n",
              "      <td>0.000000</td>\n",
              "      <td>0.000000</td>\n",
              "      <td>0.000000</td>\n",
              "    </tr>\n",
              "    <tr>\n",
              "      <th>accuracy</th>\n",
              "      <td>0.866032</td>\n",
              "      <td>0.866032</td>\n",
              "      <td>0.866032</td>\n",
              "      <td>0.866032</td>\n",
              "    </tr>\n",
              "    <tr>\n",
              "      <th>macro avg</th>\n",
              "      <td>0.026829</td>\n",
              "      <td>0.020633</td>\n",
              "      <td>0.022788</td>\n",
              "      <td>31500.000000</td>\n",
              "    </tr>\n",
              "    <tr>\n",
              "      <th>weighted avg</th>\n",
              "      <td>0.958272</td>\n",
              "      <td>0.866032</td>\n",
              "      <td>0.898661</td>\n",
              "      <td>31500.000000</td>\n",
              "    </tr>\n",
              "  </tbody>\n",
              "</table>\n",
              "<p>73 rows × 4 columns</p>\n",
              "</div>"
            ],
            "text/plain": [
              "              precision    recall  f1-score       support\n",
              "0              0.971573  0.965448  0.968501  25064.000000\n",
              "1              0.906471  0.478869  0.626678   6436.000000\n",
              "2              0.000000  0.000000  0.000000      0.000000\n",
              "3              0.000000  0.000000  0.000000      0.000000\n",
              "4              0.000000  0.000000  0.000000      0.000000\n",
              "...                 ...       ...       ...           ...\n",
              "71             0.000000  0.000000  0.000000      0.000000\n",
              "72             0.000000  0.000000  0.000000      0.000000\n",
              "accuracy       0.866032  0.866032  0.866032      0.866032\n",
              "macro avg      0.026829  0.020633  0.022788  31500.000000\n",
              "weighted avg   0.958272  0.866032  0.898661  31500.000000\n",
              "\n",
              "[73 rows x 4 columns]"
            ]
          },
          "metadata": {
            "tags": []
          },
          "execution_count": 45
        }
      ]
    }
  ]
}